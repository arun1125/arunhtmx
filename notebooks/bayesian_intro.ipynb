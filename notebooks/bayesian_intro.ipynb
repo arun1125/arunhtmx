{
 "cells": [
  {
   "cell_type": "markdown",
   "id": "13f272dd",
   "metadata": {},
   "source": [
    "# Bayesian Statistics an introduction with James Harden"
   ]
  },
  {
   "cell_type": "markdown",
   "id": "bd924f5f",
   "metadata": {},
   "source": [
    "## Buzzwords and backstory\n",
    "\n",
    "Bayesian statistics isn't new, it's been around since thomas bayes came up with it back in the 1700s. The formula is derived just with some substituting and rearranging nothing fancy but this shift in perspective gives us a whole new way of looking at things - a new philosophy.\n",
    "\n",
    "__The Frequentist__ - The OG: \n",
    "The old school (well before 1700 I guess) philosophy says that there is only one true answer and at the heart of this attitude is the belief that a true answer already exists. Buuuuuuuuuut, to measure it you must take a large number of samples and find the most _frequent_ one. Thats your true value! Why we have to take a large amount because we believe that every measurement comes with a little error.\n",
    "\n",
    "E.G:\n",
    "The height of a mountain.\n",
    "Say we take measurements of the height of a mountain in km:\n",
    "5000\n",
    "4999\n",
    "5000\n",
    "4999\n",
    "5000\n",
    "4998\n",
    "...\n",
    "5000\n",
    "\n",
    "it's looking like our mountains true height value is close to 5000\n",
    "\n",
    "\n",
    "#### But the Bayesian\n",
    "\n",
    "The Bayesian thinks a little different, he believes every observation has some information in it and the bayesian attitude is believing that there isn't one true value for your process but in fact a distribution. So with the mountain before, a Bayeisn would say that the true value of the height of the mountain is a meaningless idea. Instead, every measurement of the height of the mountain describes some point on the ground to some point near the top of the mountain but they wont be the identical two points every time. so even though every measurement has a different value, each one is an accurate measurement of something we could call the height of the mountain.\n"
   ]
  },
  {
   "cell_type": "markdown",
   "id": "a8576b18",
   "metadata": {},
   "source": [
    "### Theory\n",
    "\n",
    "A little theory goes a long way so the structure of the rest of the article will go as follows\n",
    "\n",
    "- Describing the mechanics of bayesian statistics\n",
    "- Explaining the essential terms\n",
    "- An example to demonstrate how bayesian models work"
   ]
  },
  {
   "cell_type": "markdown",
   "id": "70d57d95",
   "metadata": {},
   "source": [
    "## Mechanics\n",
    "\n",
    "### Conditional Probability \n",
    "\n",
    "Bayes Theorem is a result from conditional probability \n",
    "\n",
    "- Condional Probability formula: $P(A|B) = \\frac{P(A \\cap B)}{P(B)}$\n",
    "\n",
    "I remember when I was first learning this my teacher told me to bend the bar and divide by the given event. Safe to say that the intuition behind what was happening really didnt stick and I just ended up remembering like a computer instead of a human. So what is really going on here?\n",
    "\n",
    "The probability of A _GIVEN_ B means the probability of A happening if we know that B has already happened\n"
   ]
  },
  {
   "cell_type": "markdown",
   "id": "dcf3d845",
   "metadata": {},
   "source": [
    "Diagrams always help"
   ]
  },
  {
   "cell_type": "code",
   "execution_count": null,
   "id": "26eae376",
   "metadata": {},
   "outputs": [],
   "source": [
    "from matplotlib_venn import venn2, venn2_circles, venn2_unweighted\n",
    "from matplotlib_venn import venn3, venn3_circles\n",
    "from matplotlib import pyplot as plt\n",
    "%matplotlib inline\n",
    "\n",
    "venn2(subsets = (0.65, 0.25, 0.1), set_labels = ('Event A', 'Event B'))"
   ]
  },
  {
   "cell_type": "markdown",
   "id": "062a52b0",
   "metadata": {},
   "source": [
    "We want to find out the probability of A happening if B has already happened. \n",
    "\n",
    "The Probability of B happening is 0.35\n",
    "The Probability that A will happen after B has already happened is 0.1\n",
    "\n",
    "So the Probability of A happening _given_ B = $P(A|B) = \\frac{P(A \\cap B)}{P(B)}$ = $\\frac{0.1}{0.35}$ = 0.29"
   ]
  },
  {
   "cell_type": "markdown",
   "id": "b78de8ae",
   "metadata": {},
   "source": [
    "#### How does Bayes theorem come out of this? well\n",
    "\n",
    "[1] $P(A|B) = \\frac{P(A \\cap B)}{P(B)}$\n",
    "\n",
    "but! \n",
    "\n",
    "[2] $P(A \\cap B) = P(B \\cap A)$\n",
    "\n",
    "and \n",
    "\n",
    "[3] $P(B|A) = \\frac{P(B \\cap A)}{P(A)}$\n",
    "\n",
    "so rearranging and subbing [3] into [2] and then that into [1] you get the following\n",
    "\n",
    "### Bayes Theorem\n",
    "\n",
    "$P(A|B) = \\frac{P(B|A)P(A)}{P(B)}$"
   ]
  },
  {
   "cell_type": "markdown",
   "id": "cda8f47e",
   "metadata": {},
   "source": [
    "# So what do the terms mean? \n",
    "im gonna swap out the A's and B's for X's and Y's now and add a context. \n",
    "\n",
    "X is your Data - Say about flowers, maybe the features are height, colour, number of leaves\n",
    "Y is your Target - Whether your flower is a rose or not\n",
    "\n",
    "So the main idea in bayesian statistics is that we have a _prior_ belief about what the Target is. Typically in the form of a probability distribution. We multiply this distribution by the _liklihood_ of our data and to get a new probability distribution divide it by _the evidence_ but here evidence doesn't mean something you'd find in a crime scene. The evidence is the probability of getting our data over all potential outcomes. This result gives us our _posterior_ belief about our Target. \n",
    "\n",
    "$P(Y|X) = \\frac{P(X|Y)P(Y)}{P(X)}$\n",
    "\n",
    "- $P(Y)$: ***The Prior*** - our prior belief about the target, in the real world this could be an assumption, experts intuition or previous experiments result.\n",
    "\n",
    "\n",
    "- $P(X|Y)$: ***The Liklihood*** - this is the probability that we see the data given the targets, meditate on this for a second. The probability of seeing the data given that the targets are the same. Could you have different data but the same targets? ... \n",
    "\n",
    "\n",
    "- $P(Y|X)$: ***The Posterior*** - Our updated belief about the target\n",
    "\n",
    "- $P(X)$: ***The Evidence*** - This is the probability of seeing the data over all possible targets/ the probability of the data emerging by any means at all.\n"
   ]
  },
  {
   "cell_type": "markdown",
   "id": "70be020a",
   "metadata": {},
   "source": [
    "It took me a minute but now I see that it's very intuitive. You have a world view about a topic, you collect data about it and that shifts your world view shifts. The amount it shifts is relative to how relavent your data was to the target.\n",
    "\n",
    "##### digressive\n",
    "\n",
    "- The distribution is an object, you can do stuff to it, so say you're doing a multiple choice question and you didnt study so you have no idea what the answer is. a=b=c=d=25% then you go and study and learn more stuff and the probability starts shifting around because you're getting smarter until you think you're start enough o find a value you're confident with and then say fuck it. That threshold determines how risky you want to be.\n",
    "\n",
    "\n",
    "- It's kinda like a weighted average innit?"
   ]
  },
  {
   "cell_type": "markdown",
   "id": "b02773ea",
   "metadata": {},
   "source": [
    "# An example\n",
    "\n",
    "As you might've guess from my previous blog posts im a massive NBA fan so we're looking at a basketball example.\n",
    "\n",
    "As you might've seen recently James harden was traded to the 76ers for Ben Simmons!\n",
    "\n",
    "and that's inspired me to try and model hardens scoring numbers over the last few seasons as an introductory motivator on bayesian statistics. \n",
    "\n",
    "What we will be modelling is if his scoring numbers have changed over time. Suddenly or Gradually. "
   ]
  },
  {
   "cell_type": "markdown",
   "id": "7081bd2e",
   "metadata": {},
   "source": [
    "### How we're going to model it\n",
    "\n",
    "We can use the Poison Distribution to model Hardens scoring numbers\n",
    "\n",
    "$H_{i} \\sim Poisson(\\lambda)$\n",
    "\n",
    "The Poisson distriubtion is good for modelling counts and rates.\n",
    "\n",
    "- $\\lambda$: This is a _PARAMETER_ of our distribution, it controls the distributions shape. Other famous parameters you might know include the mean and std of the Normal distribution.\n",
    "\n",
    "Our goal essentially is to _estimate_ this parameter lambda but it's a bit more nuanced than that. The idea is that hardens scoring rate can be modelled using a poisson distribution with paramter $\\lambda$ but we want to find when/if his scoring changes.\n",
    "\n",
    "To find out if his scoring rate actually changes we will be trying to find \n",
    "\n",
    "- $\\lambda_{1}$ which is his scoring rate before a certain time say $\\tau$\n",
    "- $\\lambda_{2}$ and this is his scoring rate after $\\tau$\n",
    "\n",
    "\n",
    "**So our goal is to estimate $\\lambda_{1}$, $\\lambda_{2}$ and $\\tau$**\n",
    "(I.e What is his scoring rate before, what is his scoring rate after and approximately when did it change?) \n",
    "\n",
    "We're going to need some priors(our inital/prior belief about the parameter before we encounter some data)\n",
    "\n",
    "\n",
    "**Priors for $\\lambda_{1}$, $\\lambda_{2}$**\n",
    "\n",
    "- $\\lambda_{1} \\sim Exp(\\alpha) $ \n",
    "- $\\lambda_{2} \\sim Exp(\\alpha) $\n",
    "\n",
    "Why exponential?\n",
    "\n",
    "The exponential gives us a distribution over all positive numbers so it could be a good choice to model $\\lambda$ but we could have easily used a normal distribution too (which we might try after this example)\n",
    "\n",
    "The exponential distribution takes it's own parameter called $\\alpha$, this is a _hyperparameter_/_Parent Variable_ its a parameter that influences other parameters. \n",
    "\n",
    "A good rule of thumb is to set $\\alpha$ as as the inverse of the average of the counts. $\\frac{1}{averageOfCounts}$\n",
    "\n",
    "- What about $\\tau$:\n",
    "\n",
    "because of the noise in the data, good games vs bad games etc. It can be hard to choose when $\\tau$ might've occured so we set a flat probability amoungst all the games\n",
    "\n",
    "i.e. $\\tau$ $\\sim$ DiscreteUniform(1,number of games)\n"
   ]
  },
  {
   "cell_type": "markdown",
   "id": "e747353b",
   "metadata": {},
   "source": [
    "There are a lot of moving pieces here, $\\lambda$'s, $\\tau$'s etc but before we go and start using tools we need to gather our data, below is a simple script to get hardens scoring data"
   ]
  },
  {
   "cell_type": "markdown",
   "id": "9871d762",
   "metadata": {},
   "source": [
    "### Get the data"
   ]
  },
  {
   "cell_type": "code",
   "execution_count": 90,
   "id": "feb56590",
   "metadata": {},
   "outputs": [],
   "source": [
    "#imports \n",
    "from nba_api.stats.endpoints import playergamelog #will get us the players box score numbers per game for each season\n",
    "from nba_api.stats.static import players #gives us a list of players\n",
    "import pandas as pd  \n",
    "import numpy as np "
   ]
  },
  {
   "cell_type": "code",
   "execution_count": 74,
   "id": "184782d7",
   "metadata": {},
   "outputs": [],
   "source": [
    "# players_df = pd.DataFrame(players.get_active_players())\n",
    "# jh_id = players_df[players_df.full_name.str.contains('James Harden')].id.iloc[0]\n",
    "\n",
    "# seasons = [f'20{x}-{x+1}' for x in range(10,22)]\n",
    "# seasons.insert(0, '2009-10')\n",
    "\n",
    "# dfs = []\n",
    "\n",
    "# for season in seasons:\n",
    "#     dfs.append(playergamelog.PlayerGameLog(str(jh_id), season=season).get_data_frames()[0])\n",
    "\n",
    "# df = pd.concat(dfs)\n",
    "\n",
    "# df.to_csv('james_harden.csv', index=False)"
   ]
  },
  {
   "cell_type": "code",
   "execution_count": 75,
   "id": "d8ea1dfa",
   "metadata": {},
   "outputs": [],
   "source": [
    "df = pd.read_csv('james_harden.csv')"
   ]
  },
  {
   "cell_type": "code",
   "execution_count": 81,
   "id": "2bf02cd3",
   "metadata": {},
   "outputs": [],
   "source": [
    "#looking at last 5 seasons worth of data \n",
    "points = df[df.SEASON_ID.isin([22017,22018,22019,22020,22021])]['PTS'].reset_index(drop=True)"
   ]
  },
  {
   "cell_type": "code",
   "execution_count": 83,
   "id": "4eee6f96",
   "metadata": {
    "scrolled": true
   },
   "outputs": [
    {
     "data": {
      "text/plain": [
       "<AxesSubplot:ylabel='Frequency'>"
      ]
     },
     "execution_count": 83,
     "metadata": {},
     "output_type": "execute_result"
    },
    {
     "data": {
      "image/png": "[encoded data removed]",
      "text/plain": [
       "<Figure size 432x288 with 1 Axes>"
      ]
     },
     "metadata": {
      "needs_background": "light"
     },
     "output_type": "display_data"
    }
   ],
   "source": [
    "#quick plot to see the distribution over the last 5 years, looks like a normal dist centered \n",
    "#around 27 maybe that would've been a better choice but we can try that after\n",
    "\n",
    "points.plot(kind='hist')"
   ]
  },
  {
   "cell_type": "code",
   "execution_count": 84,
   "id": "0ad00f87",
   "metadata": {},
   "outputs": [
    {
     "data": {
      "text/plain": [
       "<AxesSubplot:>"
      ]
     },
     "execution_count": 84,
     "metadata": {},
     "output_type": "execute_result"
    },
    {
     "data": {
      "image/png": "[encoded data removed]",
      "text/plain": [
       "<Figure size 1440x432 with 1 Axes>"
      ]
     },
     "metadata": {
      "needs_background": "light"
     },
     "output_type": "display_data"
    }
   ],
   "source": [
    "#the games plotted as bars across time\n",
    "points.plot(kind='bar', figsize=(20,6))"
   ]
  },
  {
   "cell_type": "code",
   "execution_count": 86,
   "id": "f2c839d2",
   "metadata": {},
   "outputs": [],
   "source": [
    "import pymc3 as pm\n",
    "\n",
    "with pm.Model() as model:\n",
    "    \n",
    "    #whatever we had above in our modelling methodology section we've just translated into\n",
    "    #code\n",
    "    \n",
    "    #priors\n",
    "    alpha = 1.0/points.mean()\n",
    "    \n",
    "    lambda_1 = pm.Exponential(\"lambda_1\", alpha)\n",
    "    lambda_2 = pm.Exponential(\"lambda_2\", alpha)\n",
    "    \n",
    "    tau = pm.DiscreteUniform(\"tau\", lower = 0, upper=305)"
   ]
  },
  {
   "cell_type": "markdown",
   "id": "254ed0e8",
   "metadata": {},
   "source": [
    "We defined the regular $\\lambda$ as \n",
    "\n",
    "$$ \\lambda = \\left\\{\n",
    "                    \\begin{array}{11}\n",
    "                    \\lambda_{1} & t\\gt\\tau \\\\\n",
    "                    \\lambda_{2} & t\\geq\\tau \\\\\n",
    "                    \\end{array}\n",
    "             \\right. $$\n",
    "        \n",
    "        \n",
    "To illustrate this as code"
   ]
  },
  {
   "cell_type": "code",
   "execution_count": 94,
   "id": "c49b5f76",
   "metadata": {},
   "outputs": [],
   "source": [
    "with model:\n",
    "    idx = np.arange(points.shape[0])\n",
    "    lambda_ = pm.math.switch(tau >= idx, lambda_1, lambda_2) #also a RV!"
   ]
  },
  {
   "cell_type": "code",
   "execution_count": 95,
   "id": "180fa056",
   "metadata": {},
   "outputs": [],
   "source": [
    "with model:\n",
    "    observation = pm.Poisson(\"obs\", lambda_, observed=points)"
   ]
  },
  {
   "cell_type": "code",
   "execution_count": 98,
   "id": "999ae173",
   "metadata": {},
   "outputs": [
    {
     "name": "stderr",
     "output_type": "stream",
     "text": [
      "Multiprocess sampling (4 chains in 4 jobs)\n",
      "CompoundStep\n",
      ">Metropolis: [tau]\n",
      ">Metropolis: [lambda_2]\n",
      ">Metropolis: [lambda_1]\n"
     ]
    },
    {
     "data": {
      "text/html": [
       "\n",
       "    <div>\n",
       "        <style>\n",
       "            /* Turns off some styling */\n",
       "            progress {\n",
       "                /* gets rid of default border in Firefox and Opera. */\n",
       "                border: none;\n",
       "                /* Needs to be in here for Safari polyfill so background images work as expected. */\n",
       "                background-size: auto;\n",
       "            }\n",
       "            .progress-bar-interrupted, .progress-bar-interrupted::-webkit-progress-bar {\n",
       "                background: #F44336;\n",
       "            }\n",
       "        </style>\n",
       "      <progress value='60000' class='' max='60000' style='width:300px; height:20px; vertical-align: middle;'></progress>\n",
       "      100.00% [60000/60000 00:08<00:00 Sampling 4 chains, 0 divergences]\n",
       "    </div>\n",
       "    "
      ],
      "text/plain": [
       "<IPython.core.display.HTML object>"
      ]
     },
     "metadata": {},
     "output_type": "display_data"
    },
    {
     "name": "stderr",
     "output_type": "stream",
     "text": [
      "Sampling 4 chains for 5_000 tune and 10_000 draw iterations (20_000 + 40_000 draws total) took 19 seconds.\n",
      "The rhat statistic is larger than 1.05 for some parameters. This indicates slight problems during sampling.\n",
      "The estimated number of effective samples is smaller than 200 for some parameters.\n"
     ]
    }
   ],
   "source": [
    "with model:\n",
    "    step = pm.Metropolis()\n",
    "    trace = pm.sample(10000, tune = 5000, step=step, return_inferencedata=False)"
   ]
  },
  {
   "cell_type": "code",
   "execution_count": 99,
   "id": "805f00e3",
   "metadata": {},
   "outputs": [],
   "source": [
    "lambda_1_samples = trace['lambda_1']\n",
    "lambda_2_samples = trace['lambda_2']\n",
    "tau_samples = trace['tau']"
   ]
  },
  {
   "cell_type": "code",
   "execution_count": 121,
   "id": "c74f7ec5",
   "metadata": {},
   "outputs": [
    {
     "data": {
      "text/plain": [
       "Text(0.5, 1.0, 'Posterior Distributions of Lambda')"
      ]
     },
     "execution_count": 121,
     "metadata": {},
     "output_type": "execute_result"
    },
    {
     "data": {
      "image/png": "[encoded data removed]",
      "text/plain": [
       "<Figure size 432x288 with 1 Axes>"
      ]
     },
     "metadata": {
      "needs_background": "light"
     },
     "output_type": "display_data"
    }
   ],
   "source": [
    "pd.Series(lambda_1_samples).plot(kind='hist', bins=50, label='Lambda 1', legend=True)\n",
    "pd.Series(lambda_2_samples).plot(kind='hist', bins=50, label='Lambda 2', legend=True)\n",
    "plt.title('Posterior Distributions of Lambda')"
   ]
  },
  {
   "cell_type": "markdown",
   "id": "cb1a103c",
   "metadata": {},
   "source": [
    "What we have above is the histogram/distribution of values for our posterior. Narrower distributions are more confident. We can also see a _CLEAR_ difference in scoring from around 33.75 to 28! so Harden's scoring did drop off! But when ...?\n",
    "\n",
    "quick note: The distributions are not exponential looking! Our model learned the posterior to be Gaussian! we should experiment with Gaussian priors to see the effect on the model (but im sure it'll be minimal)"
   ]
  },
  {
   "cell_type": "code",
   "execution_count": 122,
   "id": "8809827d",
   "metadata": {},
   "outputs": [
    {
     "data": {
      "text/plain": [
       "Text(0.5, 1.0, 'Posterior Distribution of Tau')"
      ]
     },
     "execution_count": 122,
     "metadata": {},
     "output_type": "execute_result"
    },
    {
     "data": {
      "image/png": "[encoded data removed]",
      "text/plain": [
       "<Figure size 432x288 with 1 Axes>"
      ]
     },
     "metadata": {
      "needs_background": "light"
     },
     "output_type": "display_data"
    }
   ],
   "source": [
    "pd.Series(tau_samples).plot(kind='hist', bins=50, label='Tau', legend=True)\n",
    "plt.title('Posterior Distribution of Tau')"
   ]
  },
  {
   "cell_type": "markdown",
   "id": "b7104359",
   "metadata": {},
   "source": [
    "We can see that changes were likely to have happened around day 140 but other days have change potential too\n",
    "\n",
    "This could mean a few different things some of which include...\n",
    "\n",
    "- Hardens scoring rate has changed way more than two times\n",
    "- He had stretches of bad games \n"
   ]
  },
  {
   "cell_type": "markdown",
   "id": "9e0b8809",
   "metadata": {},
   "source": [
    "###### These articles are subject to revision because learning is a journey "
   ]
  }
 ],
 "metadata": {
  "kernelspec": {
   "display_name": "Python 3 (ipykernel)",
   "language": "python",
   "name": "python3"
  },
  "language_info": {
   "codemirror_mode": {
    "name": "ipython",
    "version": 3
   },
   "file_extension": ".py",
   "mimetype": "text/x-python",
   "name": "python",
   "nbconvert_exporter": "python",
   "pygments_lexer": "ipython3",
   "version": "3.9.9"
  }
 },
 "nbformat": 4,
 "nbformat_minor": 5
}
