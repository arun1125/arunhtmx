{
 "cells": [
  {
   "cell_type": "markdown",
   "metadata": {},
   "source": [
    "I have a productivity problem\n",
    "\n",
    "im not sure how to describe it \n",
    "\n",
    "but ever since I was 16 I have thought about this monkey on my back and getting things done\n",
    "\n",
    "some people would get more done than me and work half the time I did but its not about the time you spend on a project its about effective reps you take \n",
    "\n",
    "they probably took more effective reps \n",
    "\n",
    "and how can I expect anything more?\n",
    "\n",
    "I always look to my phone for a gasp of air \n",
    "\n",
    "I can be fully immersed in something and I forget to breathe and panic \n",
    "\n",
    "I dont know whats going on and reflexively I reach for the phone and remind myself to breathe \n",
    "\n",
    "when I'm working I sometimes get into the zone, fairly easily too actually but my issue is staying in the zone. I feel scared staying there? \n",
    "\n",
    "When was the last time I spent an entire day in the zone without taking myself out. Fuck a day what abot a few hours or even just 1. \n",
    "\n",
    "Growing up Id hate getting into the zone. The tranquil state I would be in would only be achieved at the closing moments of my working session, just before my mum came to work or when she got up from her nap and immediately im hit with a loud ARUN do something \n",
    "\n",
    "fuck that \n",
    "Its so annoying\n",
    "\n",
    "leave me alone\n",
    "\n",
    "but here in this life ive created I can stay in the zone as much as I want\n",
    "\n",
    "but I dont \n",
    "\n",
    "its sad \n",
    "\n",
    "I spent so long trying to craft this perfect enviornemnt and I am not even taking full advantage out of it? \n",
    "\n",
    "its not work thats in my own way but I feel as if the amount of juice I have in my battery is less? thats not the best way to put it but I feel like my mental and physical stamina has decreased! \n",
    "\n",
    "I should work on it\n",
    "\n",
    "go for runs, spend time outside \n",
    "practice focusing on 1 dot for a long time \n",
    "\n",
    "that visual focus is important \n",
    "\n",
    "I can tell that proper effective reps in the gym will help but what type of gym am I even doing man "
   ]
  },
  {
   "cell_type": "markdown",
   "metadata": {},
   "source": [
    "im also in this state of toxic productivity where I think if I get up and do a bunch of shit then i will somehow be magically succesfull \n",
    "and i wont \n",
    "\n",
    "efficiency is a curse \n",
    "\n",
    "prioritization is key \n",
    "\n",
    "for example \n",
    "\n",
    "right now \n",
    "I wanted to work on my website, go to the gym, get my chair, hang out with lesley, cook, go out and enjoy the sun and write up some of my bid floor diagrams and close up the bid floor analysis\n",
    "\n",
    "I cant to multiple things at the same time and I cant do all of them \n",
    "\n",
    "so I must prioritise which ones are most important to me! \n",
    "\n"
   ]
  }
 ],
 "metadata": {
  "language_info": {
   "name": "python"
  }
 },
 "nbformat": 4,
 "nbformat_minor": 2
}
