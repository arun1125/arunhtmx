{
 "cells": [
  {
   "attachments": {},
   "cell_type": "markdown",
   "metadata": {},
   "source": [
    "# You already know everything (kinda)\n",
    "\n",
    "My friend and I have this saying, I can tell you 100 times but until YOU get it you will never get it so no point wasting energy repeating myself. \n",
    "\n",
    "We mean that we can carefully explain something to somebody, walk them through the logic and steps. \n",
    "\n",
    "step by step \n",
    "\n",
    "but it won't work until they themselves understand what it is you're talkiung about and that knowledge comes from within\n",
    "\n",
    "When I learn something new, the writer (if skilled) presents a topic in a way such that the reader and their internals can read it, syntheize what its talking about and then activate that inside part of them that actually understands whats going on and attaches it into their mental model/map of the world "
   ]
  },
  {
   "attachments": {},
   "cell_type": "markdown",
   "metadata": {},
   "source": [
    "Learning about linear algebra? yeah I did too at one point but man **X** being a matrix was so confusing \n",
    "\n",
    "once I started seeing **X** as DATA then the results started speaking to me \n",
    "\n",
    "it was insane. A perspective shift completely rewrote my understanding of linear algebra "
   ]
  },
  {
   "cell_type": "markdown",
   "metadata": {},
   "source": []
  }
 ],
 "metadata": {
  "language_info": {
   "name": "python"
  },
  "orig_nbformat": 4
 },
 "nbformat": 4,
 "nbformat_minor": 2
}
