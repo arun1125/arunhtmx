{
 "cells": [
  {
   "attachments": {},
   "cell_type": "markdown",
   "metadata": {},
   "source": [
    "# Does this sound familiar to you?\n",
    "\n",
    "- Loading your data\n",
    "- Doing EDA\n",
    "- Feature engineering \n",
    "- Build model\n",
    "- Evaluate your model \n",
    "- Deploy"
   ]
  },
  {
   "attachments": {},
   "cell_type": "markdown",
   "metadata": {},
   "source": [
    "when I was a young and naive, a nebulous cloud say, a newly emergent data scientist in indsutry I thought this is how things worked. Thats what the udemy course said anyways lol.  \n",
    "\n",
    "clean segmented parts when put together form a whole pipeline that just * FITS * \n",
    "\n",
    "yeah ngmi\n",
    "\n",
    "**BARRING DEPLOYMENT** think about your models kinda like how stable diffusion generates images \n",
    "\n",
    "its a whole thing through iterations and refinement slowly starts to look like something usable or worth something"
   ]
  },
  {
   "attachments": {},
   "cell_type": "markdown",
   "metadata": {},
   "source": [
    "You build a model, loo"
   ]
  },
  {
   "cell_type": "markdown",
   "metadata": {},
   "source": []
  }
 ],
 "metadata": {
  "language_info": {
   "name": "python"
  },
  "orig_nbformat": 4
 },
 "nbformat": 4,
 "nbformat_minor": 2
}
